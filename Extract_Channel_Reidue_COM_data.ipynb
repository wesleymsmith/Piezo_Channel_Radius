{
 "cells": [
  {
   "cell_type": "code",
   "execution_count": 1,
   "metadata": {},
   "outputs": [],
   "source": [
    "import pytraj as pt\n",
    "import numpy as np\n",
    "import pandas as pd\n",
    "\n",
    "import copy\n",
    "import gc"
   ]
  },
  {
   "cell_type": "markdown",
   "metadata": {},
   "source": []
  },
  {
   "cell_type": "code",
   "execution_count": 2,
   "metadata": {},
   "outputs": [
    {
     "data": {
      "text/plain": [
       "pytraj.TrajectoryIterator, 8335 frames: \n",
       "Size: 13.000000 (GB)\n",
       "<Topology: 70296 atoms, 4254 residues, 12 mols, PBC with box type = ortho>\n",
       "           "
      ]
     },
     "execution_count": 2,
     "metadata": {},
     "output_type": "execute_result"
    }
   ],
   "source": [
    "strucDir='structures'\n",
    "trajName='traj.1us.dcd'\n",
    "trajPath='/'.join([strucDir,trajName])\n",
    "topName='topol.parm7'\n",
    "topPath='/'.join([strucDir,topName])\n",
    "iterTraj=pt.iterload(trajPath,top=topPath)\n",
    "iterTraj"
   ]
  },
  {
   "cell_type": "code",
   "execution_count": 4,
   "metadata": {},
   "outputs": [
    {
     "data": {
      "text/plain": [
       "array([1322, 1323, 1324, ..., 4204, 4205, 4206])"
      ]
     },
     "execution_count": 4,
     "metadata": {},
     "output_type": "execute_result"
    }
   ],
   "source": [
    "channelResids=np.arange(1322,1371)\n",
    "nRes=4254\n",
    "nChains=3\n",
    "resPerChain=nRes/nChains\n",
    "resList=np.concatenate([\n",
    "    channelResids + resPerChain*iRes \\\n",
    "    for iRes in np.arange(nChains)\n",
    "])\n",
    "resList"
   ]
  },
  {
   "cell_type": "code",
   "execution_count": 5,
   "metadata": {},
   "outputs": [
    {
     "data": {
      "text/plain": [
       "array([[ 87.32514997, 113.50049432, 104.41338308],\n",
       "       [ 86.77643345, 114.67273315, 104.50121851],\n",
       "       [ 86.13430181, 114.50329489, 104.03314161],\n",
       "       ...,\n",
       "       [ 76.95923399, 120.91999186,  95.6058307 ],\n",
       "       [ 77.84140984, 119.96407103,  95.48467719],\n",
       "       [ 78.08829844, 120.27425519,  94.9651428 ]])"
      ]
     },
     "execution_count": 5,
     "metadata": {},
     "output_type": "execute_result"
    }
   ],
   "source": [
    "commandList=[\n",
    "    \"vector center :%g\"%iRes \\\n",
    "    for iRes in resList\n",
    "]\n",
    "comData=pt.compute(commandList,iterTraj).values()\n",
    "comData[0]"
   ]
  },
  {
   "cell_type": "code",
   "execution_count": 6,
   "metadata": {},
   "outputs": [
    {
     "data": {
      "text/plain": [
       "(147, 8335, 3)"
      ]
     },
     "execution_count": 6,
     "metadata": {},
     "output_type": "execute_result"
    }
   ],
   "source": [
    "comData=np.array(comData)\n",
    "comData.shape"
   ]
  },
  {
   "cell_type": "code",
   "execution_count": 7,
   "metadata": {},
   "outputs": [],
   "source": [
    "import tqdm"
   ]
  },
  {
   "cell_type": "code",
   "execution_count": 9,
   "metadata": {},
   "outputs": [
    {
     "name": "stderr",
     "output_type": "stream",
     "text": [
      "compiling data frame: 100%|██████████| 147/147 [00:00<00:00, 275.73it/s]\n"
     ]
    },
    {
     "data": {
      "text/html": [
       "<div>\n",
       "<table border=\"1\" class=\"dataframe\">\n",
       "  <thead>\n",
       "    <tr style=\"text-align: right;\">\n",
       "      <th></th>\n",
       "      <th>Frame</th>\n",
       "      <th>Resid</th>\n",
       "      <th>X</th>\n",
       "      <th>Y</th>\n",
       "      <th>Z</th>\n",
       "    </tr>\n",
       "  </thead>\n",
       "  <tbody>\n",
       "    <tr>\n",
       "      <th>0</th>\n",
       "      <td>0</td>\n",
       "      <td>1322</td>\n",
       "      <td>87.325150</td>\n",
       "      <td>113.500494</td>\n",
       "      <td>104.413383</td>\n",
       "    </tr>\n",
       "    <tr>\n",
       "      <th>1</th>\n",
       "      <td>1</td>\n",
       "      <td>1322</td>\n",
       "      <td>86.776433</td>\n",
       "      <td>114.672733</td>\n",
       "      <td>104.501219</td>\n",
       "    </tr>\n",
       "    <tr>\n",
       "      <th>2</th>\n",
       "      <td>2</td>\n",
       "      <td>1322</td>\n",
       "      <td>86.134302</td>\n",
       "      <td>114.503295</td>\n",
       "      <td>104.033142</td>\n",
       "    </tr>\n",
       "    <tr>\n",
       "      <th>3</th>\n",
       "      <td>3</td>\n",
       "      <td>1322</td>\n",
       "      <td>84.937330</td>\n",
       "      <td>114.524715</td>\n",
       "      <td>104.247451</td>\n",
       "    </tr>\n",
       "    <tr>\n",
       "      <th>4</th>\n",
       "      <td>4</td>\n",
       "      <td>1322</td>\n",
       "      <td>87.220211</td>\n",
       "      <td>114.127925</td>\n",
       "      <td>104.109741</td>\n",
       "    </tr>\n",
       "  </tbody>\n",
       "</table>\n",
       "</div>"
      ],
      "text/plain": [
       "   Frame  Resid          X           Y           Z\n",
       "0      0   1322  87.325150  113.500494  104.413383\n",
       "1      1   1322  86.776433  114.672733  104.501219\n",
       "2      2   1322  86.134302  114.503295  104.033142\n",
       "3      3   1322  84.937330  114.524715  104.247451\n",
       "4      4   1322  87.220211  114.127925  104.109741"
      ]
     },
     "execution_count": 9,
     "metadata": {},
     "output_type": "execute_result"
    }
   ],
   "source": [
    "comFrameList=[]\n",
    "for iRes,resData in enumerate(\n",
    "    tqdm.tqdm(comData,desc='compiling data frame')):\n",
    "    comFrame=pd.DataFrame({\n",
    "        'Resid':[resList[iRes]]*len(resData),\n",
    "        'Frame':np.arange(len(resData)),\n",
    "        'X':resData[:,0],\n",
    "        'Y':resData[:,1],\n",
    "        'Z':resData[:,2]\n",
    "    })\n",
    "    comFrameList.append(comFrame)\n",
    "    \n",
    "comDataFrame=pd.concat(comFrameList)\n",
    "comFrameList=[]\n",
    "comDataFrame.to_csv('channel_COM_data.csv')\n",
    "comDataFrame.head()"
   ]
  },
  {
   "cell_type": "code",
   "execution_count": null,
   "metadata": {},
   "outputs": [],
   "source": []
  }
 ],
 "metadata": {
  "kernelspec": {
   "display_name": "Python 2",
   "language": "python",
   "name": "python2"
  },
  "language_info": {
   "codemirror_mode": {
    "name": "ipython",
    "version": 2
   },
   "file_extension": ".py",
   "mimetype": "text/x-python",
   "name": "python",
   "nbconvert_exporter": "python",
   "pygments_lexer": "ipython2",
   "version": "2.7.15"
  }
 },
 "nbformat": 4,
 "nbformat_minor": 2
}
